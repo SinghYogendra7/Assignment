{
 "cells": [
  {
   "cell_type": "code",
   "execution_count": 1,
   "id": "8e53178f",
   "metadata": {},
   "outputs": [
    {
     "name": "stdout",
     "output_type": "stream",
     "text": [
      "1\n",
      "1\n",
      "2\n",
      "3\n",
      "5\n",
      "8\n",
      "13\n",
      "21\n",
      "34\n"
     ]
    }
   ],
   "source": [
    "f,s=0,1\n",
    "while s<50:\n",
    "    print(s)\n",
    "    f,s=s,f+s"
   ]
  },
  {
   "cell_type": "code",
   "execution_count": 1,
   "id": "bcdd8116",
   "metadata": {},
   "outputs": [
    {
     "ename": "TypeError",
     "evalue": "ord() expected a character, but string of length 3 found",
     "output_type": "error",
     "traceback": [
      "\u001b[1;31m---------------------------------------------------------------------------\u001b[0m",
      "\u001b[1;31mTypeError\u001b[0m                                 Traceback (most recent call last)",
      "\u001b[1;32m<ipython-input-1-fcfb99a2e7ea>\u001b[0m in \u001b[0;36m<module>\u001b[1;34m\u001b[0m\n\u001b[1;32m----> 1\u001b[1;33m \u001b[0mprint\u001b[0m\u001b[1;33m(\u001b[0m\u001b[0mord\u001b[0m\u001b[1;33m(\u001b[0m\u001b[1;34m'foo'\u001b[0m\u001b[1;33m)\u001b[0m\u001b[1;33m)\u001b[0m\u001b[1;33m\u001b[0m\u001b[1;33m\u001b[0m\u001b[0m\n\u001b[0m",
      "\u001b[1;31mTypeError\u001b[0m: ord() expected a character, but string of length 3 found"
     ]
    }
   ],
   "source": [
    "print(ord('foo'))"
   ]
  },
  {
   "cell_type": "code",
   "execution_count": 2,
   "id": "6f470cd4",
   "metadata": {},
   "outputs": [
    {
     "name": "stdout",
     "output_type": "stream",
     "text": [
      "True\n"
     ]
    }
   ],
   "source": [
    "s = 'foo'\n",
    "t = 'bar'\n",
    "print('barf' in 2 *(s+t))"
   ]
  },
  {
   "cell_type": "code",
   "execution_count": 3,
   "id": "ac179b22",
   "metadata": {},
   "outputs": [
    {
     "name": "stdout",
     "output_type": "stream",
     "text": [
      "\n"
     ]
    }
   ],
   "source": [
    "print()"
   ]
  },
  {
   "cell_type": "code",
   "execution_count": 4,
   "id": "53566fe3",
   "metadata": {},
   "outputs": [
    {
     "data": {
      "text/plain": [
       "'pq'"
      ]
     },
     "execution_count": 4,
     "metadata": {},
     "output_type": "execute_result"
    }
   ],
   "source": [
    "'p' + 'q' if '12'.isdigit() else 'r' + s"
   ]
  },
  {
   "cell_type": "code",
   "execution_count": 7,
   "id": "6f22da67",
   "metadata": {},
   "outputs": [
    {
     "ename": "SyntaxError",
     "evalue": "EOL while scanning string literal (<ipython-input-7-b46a76b418da>, line 1)",
     "output_type": "error",
     "traceback": [
      "\u001b[1;36m  File \u001b[1;32m\"<ipython-input-7-b46a76b418da>\"\u001b[1;36m, line \u001b[1;32m1\u001b[0m\n\u001b[1;33m    a = \"hello'\u001b[0m\n\u001b[1;37m               ^\u001b[0m\n\u001b[1;31mSyntaxError\u001b[0m\u001b[1;31m:\u001b[0m EOL while scanning string literal\n"
     ]
    }
   ],
   "source": [
    "a = \"hello'\n",
    "b = \"hello\"\n",
    "print(\"hello'==\"hello\")"
   ]
  },
  {
   "cell_type": "code",
   "execution_count": 9,
   "id": "b310b36d",
   "metadata": {},
   "outputs": [
    {
     "ename": "SyntaxError",
     "evalue": "invalid syntax (<ipython-input-9-574c92a6ec17>, line 3)",
     "output_type": "error",
     "traceback": [
      "\u001b[1;36m  File \u001b[1;32m\"<ipython-input-9-574c92a6ec17>\"\u001b[1;36m, line \u001b[1;32m3\u001b[0m\n\u001b[1;33m    if i%3 == 0\u001b[0m\n\u001b[1;37m               ^\u001b[0m\n\u001b[1;31mSyntaxError\u001b[0m\u001b[1;31m:\u001b[0m invalid syntax\n"
     ]
    }
   ],
   "source": [
    "i = 1\n",
    "while True:\n",
    "    if i%3 == 0\n",
    "        break\n",
    "    print(i)\n",
    "    i + = 1"
   ]
  },
  {
   "cell_type": "code",
   "execution_count": 10,
   "id": "e0816f66",
   "metadata": {},
   "outputs": [
    {
     "name": "stdout",
     "output_type": "stream",
     "text": [
      "c\n"
     ]
    }
   ],
   "source": [
    "print(chr(ord('b')+1))"
   ]
  },
  {
   "cell_type": "code",
   "execution_count": 12,
   "id": "83ec51fe",
   "metadata": {},
   "outputs": [
    {
     "name": "stdout",
     "output_type": "stream",
     "text": [
      "a\n",
      "a\n",
      "a\n",
      "a\n"
     ]
    }
   ],
   "source": [
    "x = 'abcd'\n",
    "for i in range(len(x)):\n",
    "    x = 'a'\n",
    "    print(x)"
   ]
  },
  {
   "cell_type": "code",
   "execution_count": 14,
   "id": "64b7d18b",
   "metadata": {},
   "outputs": [],
   "source": []
  },
  {
   "cell_type": "code",
   "execution_count": 16,
   "id": "8af24a96",
   "metadata": {},
   "outputs": [],
   "source": [
    "for i in range(0):\n",
    "    print(i)"
   ]
  },
  {
   "cell_type": "code",
   "execution_count": 17,
   "id": "6d7380a8",
   "metadata": {},
   "outputs": [
    {
     "name": "stdout",
     "output_type": "stream",
     "text": [
      "['ab', 'cd', 'ef', 'cd', 'gh.cd']\n"
     ]
    }
   ],
   "source": [
    "print('ab,cd,ef,cd,gh.cd'.split(','))"
   ]
  },
  {
   "cell_type": "code",
   "execution_count": 24,
   "id": "8b8a426d",
   "metadata": {},
   "outputs": [
    {
     "name": "stdout",
     "output_type": "stream",
     "text": [
      "1\n",
      "2\n"
     ]
    }
   ],
   "source": [
    "i = 1\n",
    "while True:\n",
    "    if i%3 == 0:\n",
    "        break\n",
    "    print(i)\n",
    "    i+= 1  "
   ]
  },
  {
   "cell_type": "code",
   "execution_count": 27,
   "id": "3b829c93",
   "metadata": {},
   "outputs": [
    {
     "data": {
      "text/plain": [
       "tuple"
      ]
     },
     "execution_count": 27,
     "metadata": {},
     "output_type": "execute_result"
    }
   ],
   "source": [
    "t = (9,'Rahul',95)\n",
    "type(t)"
   ]
  },
  {
   "cell_type": "code",
   "execution_count": 28,
   "id": "32d460fa",
   "metadata": {},
   "outputs": [],
   "source": [
    "t2 = ('Owl', 52)"
   ]
  },
  {
   "cell_type": "code",
   "execution_count": 29,
   "id": "b41127f8",
   "metadata": {},
   "outputs": [],
   "source": [
    "t = t + t2 "
   ]
  },
  {
   "cell_type": "code",
   "execution_count": 30,
   "id": "855af40d",
   "metadata": {},
   "outputs": [
    {
     "data": {
      "text/plain": [
       "(9, 'Rahul', 95, 'Owl', 52)"
      ]
     },
     "execution_count": 30,
     "metadata": {},
     "output_type": "execute_result"
    }
   ],
   "source": [
    "t "
   ]
  },
  {
   "cell_type": "code",
   "execution_count": 36,
   "id": "e9adb09c",
   "metadata": {},
   "outputs": [],
   "source": [
    "t = list(t)"
   ]
  },
  {
   "cell_type": "code",
   "execution_count": 37,
   "id": "f62ebba6",
   "metadata": {},
   "outputs": [
    {
     "data": {
      "text/plain": [
       "[9, 'Rahul', 95, 'Owl', 52]"
      ]
     },
     "execution_count": 37,
     "metadata": {},
     "output_type": "execute_result"
    }
   ],
   "source": [
    "t "
   ]
  },
  {
   "cell_type": "code",
   "execution_count": 38,
   "id": "73070204",
   "metadata": {},
   "outputs": [],
   "source": [
    "t.append('kunal')"
   ]
  },
  {
   "cell_type": "code",
   "execution_count": 39,
   "id": "d7032eaf",
   "metadata": {},
   "outputs": [
    {
     "data": {
      "text/plain": [
       "[9, 'Rahul', 95, 'Owl', 52, 'kunal']"
      ]
     },
     "execution_count": 39,
     "metadata": {},
     "output_type": "execute_result"
    }
   ],
   "source": [
    "t"
   ]
  },
  {
   "cell_type": "code",
   "execution_count": 41,
   "id": "5952f9a5",
   "metadata": {},
   "outputs": [],
   "source": [
    "t = ('Rahul',[566,8,89],564)"
   ]
  },
  {
   "cell_type": "code",
   "execution_count": 42,
   "id": "a86ff078",
   "metadata": {},
   "outputs": [
    {
     "data": {
      "text/plain": [
       "tuple"
      ]
     },
     "execution_count": 42,
     "metadata": {},
     "output_type": "execute_result"
    }
   ],
   "source": [
    "type(t)"
   ]
  },
  {
   "cell_type": "code",
   "execution_count": 43,
   "id": "6cc5fd64",
   "metadata": {},
   "outputs": [
    {
     "data": {
      "text/plain": [
       "[566, 8, 89]"
      ]
     },
     "execution_count": 43,
     "metadata": {},
     "output_type": "execute_result"
    }
   ],
   "source": [
    "t[1]"
   ]
  },
  {
   "cell_type": "code",
   "execution_count": 44,
   "id": "b56e105a",
   "metadata": {},
   "outputs": [
    {
     "data": {
      "text/plain": [
       "566"
      ]
     },
     "execution_count": 44,
     "metadata": {},
     "output_type": "execute_result"
    }
   ],
   "source": [
    "t[1][0]"
   ]
  },
  {
   "cell_type": "code",
   "execution_count": 48,
   "id": "0d1cafe1",
   "metadata": {},
   "outputs": [],
   "source": [
    "#Conditional Statement"
   ]
  },
  {
   "cell_type": "code",
   "execution_count": 51,
   "id": "9bffd18f",
   "metadata": {},
   "outputs": [],
   "source": [
    "count = 15\n",
    "if count < 6:\n",
    "    print(count)\n",
    "else: \n",
    "    count = 4"
   ]
  },
  {
   "cell_type": "code",
   "execution_count": 52,
   "id": "637e60f7",
   "metadata": {},
   "outputs": [
    {
     "data": {
      "text/plain": [
       "4"
      ]
     },
     "execution_count": 52,
     "metadata": {},
     "output_type": "execute_result"
    }
   ],
   "source": [
    "count"
   ]
  },
  {
   "cell_type": "code",
   "execution_count": 53,
   "id": "dbeeb389",
   "metadata": {},
   "outputs": [],
   "source": [
    "count = 2"
   ]
  },
  {
   "cell_type": "code",
   "execution_count": 59,
   "id": "96823b96",
   "metadata": {},
   "outputs": [],
   "source": [
    "#if condition:\n",
    "    #statement\n",
    "#elif condition:\n",
    "    #statement\n",
    "#else:\n",
    "    #statement    "
   ]
  },
  {
   "cell_type": "code",
   "execution_count": 61,
   "id": "a4626cc4",
   "metadata": {},
   "outputs": [
    {
     "data": {
      "text/plain": [
       "[0, 1, 2, 3, 4, 5, 6, 7, 8, 9]"
      ]
     },
     "execution_count": 61,
     "metadata": {},
     "output_type": "execute_result"
    }
   ],
   "source": [
    "list(range(10))"
   ]
  },
  {
   "cell_type": "code",
   "execution_count": 62,
   "id": "91b8d7b5",
   "metadata": {},
   "outputs": [],
   "source": [
    "count = 0\n",
    "ocount = 0\n",
    "for i in range(10):\n",
    "    if i%2 == 0:\n",
    "        count +=1\n",
    "    else:\n",
    "        ocount +=1       "
   ]
  },
  {
   "cell_type": "code",
   "execution_count": 63,
   "id": "4d92fbd9",
   "metadata": {},
   "outputs": [
    {
     "data": {
      "text/plain": [
       "5"
      ]
     },
     "execution_count": 63,
     "metadata": {},
     "output_type": "execute_result"
    }
   ],
   "source": [
    "count"
   ]
  },
  {
   "cell_type": "code",
   "execution_count": 64,
   "id": "80170fca",
   "metadata": {},
   "outputs": [
    {
     "data": {
      "text/plain": [
       "5"
      ]
     },
     "execution_count": 64,
     "metadata": {},
     "output_type": "execute_result"
    }
   ],
   "source": [
    "ocount"
   ]
  },
  {
   "cell_type": "code",
   "execution_count": null,
   "id": "e3f1a143",
   "metadata": {},
   "outputs": [],
   "source": []
  }
 ],
 "metadata": {
  "kernelspec": {
   "display_name": "Python 3",
   "language": "python",
   "name": "python3"
  },
  "language_info": {
   "codemirror_mode": {
    "name": "ipython",
    "version": 3
   },
   "file_extension": ".py",
   "mimetype": "text/x-python",
   "name": "python",
   "nbconvert_exporter": "python",
   "pygments_lexer": "ipython3",
   "version": "3.8.8"
  }
 },
 "nbformat": 4,
 "nbformat_minor": 5
}
