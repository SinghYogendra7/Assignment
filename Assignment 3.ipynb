{
 "cells": [
  {
   "cell_type": "code",
   "execution_count": 1,
   "id": "09a94197",
   "metadata": {},
   "outputs": [],
   "source": [
    "l = [1,2,3,4,5,6,7,8,9,10,11,12]"
   ]
  },
  {
   "cell_type": "code",
   "execution_count": 2,
   "id": "c4cb9912",
   "metadata": {},
   "outputs": [
    {
     "data": {
      "text/plain": [
       "[1, 2, 3, 4, 5, 6, 7, 8, 9, 10, 11, 12]"
      ]
     },
     "execution_count": 2,
     "metadata": {},
     "output_type": "execute_result"
    }
   ],
   "source": [
    "l"
   ]
  },
  {
   "cell_type": "code",
   "execution_count": 3,
   "id": "ee987ba4",
   "metadata": {},
   "outputs": [
    {
     "name": "stdout",
     "output_type": "stream",
     "text": [
      "1 is Odd Number\n",
      "2 is Even Number\n",
      "3 is Odd Number\n",
      "4 is Even Number\n",
      "5 is Odd Number\n",
      "6 is Even Number\n",
      "7 is Odd Number\n",
      "8 is Even Number\n",
      "9 is Odd Number\n",
      "10 is Even Number\n",
      "11 is Odd Number\n",
      "12 is Even Number\n"
     ]
    }
   ],
   "source": [
    "for i in l:\n",
    "    if (i%2) == 0:\n",
    "        print(i,\"is Even Number\")\n",
    "    else:\n",
    "        print(i,\"is Odd Number\")"
   ]
  },
  {
   "cell_type": "code",
   "execution_count": null,
   "id": "28c5ae2a",
   "metadata": {},
   "outputs": [],
   "source": []
  }
 ],
 "metadata": {
  "kernelspec": {
   "display_name": "Python 3",
   "language": "python",
   "name": "python3"
  },
  "language_info": {
   "codemirror_mode": {
    "name": "ipython",
    "version": 3
   },
   "file_extension": ".py",
   "mimetype": "text/x-python",
   "name": "python",
   "nbconvert_exporter": "python",
   "pygments_lexer": "ipython3",
   "version": "3.8.8"
  }
 },
 "nbformat": 4,
 "nbformat_minor": 5
}
