{
 "cells": [
  {
   "cell_type": "code",
   "execution_count": 1,
   "id": "21ed7486",
   "metadata": {},
   "outputs": [
    {
     "name": "stdout",
     "output_type": "stream",
     "text": [
      "Enter a String:Marvel\n",
      "reversed string is: levraM\n"
     ]
    }
   ],
   "source": [
    "def reverse(string):\n",
    "    reversed_string = \"\"\n",
    "    for i in  string:\n",
    "        reversed_string = i+reversed_string\n",
    "    print(\"reversed string is:\",reversed_string)\n",
    "string = input(\"Enter a String:\")\n",
    "reverse(string)"
   ]
  },
  {
   "cell_type": "code",
   "execution_count": null,
   "id": "93544d89",
   "metadata": {},
   "outputs": [],
   "source": []
  }
 ],
 "metadata": {
  "kernelspec": {
   "display_name": "Python 3",
   "language": "python",
   "name": "python3"
  },
  "language_info": {
   "codemirror_mode": {
    "name": "ipython",
    "version": 3
   },
   "file_extension": ".py",
   "mimetype": "text/x-python",
   "name": "python",
   "nbconvert_exporter": "python",
   "pygments_lexer": "ipython3",
   "version": "3.8.8"
  }
 },
 "nbformat": 4,
 "nbformat_minor": 5
}
